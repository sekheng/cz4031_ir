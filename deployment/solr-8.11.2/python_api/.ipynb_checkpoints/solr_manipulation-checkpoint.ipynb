{
 "cells": [
  {
   "cell_type": "code",
   "execution_count": 1,
   "id": "7044566c",
   "metadata": {},
   "outputs": [
    {
     "ename": "ModuleNotFoundError",
     "evalue": "No module named 'pysolr'",
     "output_type": "error",
     "traceback": [
      "\u001b[1;31m---------------------------------------------------------------------------\u001b[0m",
      "\u001b[1;31mModuleNotFoundError\u001b[0m                       Traceback (most recent call last)",
      "Cell \u001b[1;32mIn[1], line 2\u001b[0m\n\u001b[0;32m      1\u001b[0m \u001b[38;5;28;01mimport\u001b[39;00m \u001b[38;5;21;01mpandas\u001b[39;00m \u001b[38;5;28;01mas\u001b[39;00m \u001b[38;5;21;01mpd\u001b[39;00m\n\u001b[1;32m----> 2\u001b[0m \u001b[38;5;28;01mimport\u001b[39;00m \u001b[38;5;21;01mpysolr\u001b[39;00m\n\u001b[0;32m      3\u001b[0m \u001b[38;5;28;01mimport\u001b[39;00m \u001b[38;5;21;01mos\u001b[39;00m\n",
      "\u001b[1;31mModuleNotFoundError\u001b[0m: No module named 'pysolr'"
     ]
    }
   ],
   "source": [
    "import pandas as pd\n",
    "import pysolr\n",
    "import os"
   ]
  },
  {
   "cell_type": "code",
   "execution_count": null,
   "id": "ac0f7c28",
   "metadata": {},
   "outputs": [],
   "source": [
    "# establish connection with the core\n",
    "core_path = \"http://localhost:8983/solr/stock_project_core\"\n",
    "solr = pysolr.Solr(core_path, always_commit=True)"
   ]
  },
  {
   "cell_type": "markdown",
   "id": "efc6670f",
   "metadata": {},
   "source": [
    "# Remove all indexes from the core"
   ]
  },
  {
   "cell_type": "code",
   "execution_count": null,
   "id": "8c37e2bb",
   "metadata": {},
   "outputs": [],
   "source": [
    "# remove all index\n",
    "solr.delete(q='*:*')"
   ]
  },
  {
   "cell_type": "markdown",
   "id": "b2a1e291",
   "metadata": {},
   "source": [
    "# Index data from csv"
   ]
  },
  {
   "cell_type": "code",
   "execution_count": null,
   "id": "6c7eadce",
   "metadata": {},
   "outputs": [],
   "source": [
    "# load csv data (labelling version)\n",
    "csv_path = \"IR_New_Testing_Data - Tesing_Data.csv\"\n",
    "\n",
    "csv_data = pd.read_csv(csv_path, dtype={'tweet_id': 'int64'}, float_precision='round_trip')\n",
    "csv_data['tweet_id'] = csv_data['tweet_id'].astype(str)\n",
    "csv_data.head(5)"
   ]
  },
  {
   "cell_type": "code",
   "execution_count": null,
   "id": "135633f7",
   "metadata": {},
   "outputs": [],
   "source": [
    "# extract csv data to be indexed\n",
    "extracted_data = []\n",
    "for index, row in csv_data.iterrows():\n",
    "    extracted_data.append({\"id\": row[\"tweet_id\"],\n",
    "                           \"company\": row[\"ticker_symbol\"],\n",
    "                           \"post_date\": row[\"post_date\"],\n",
    "                            \"author\": row[\"writer\"], \n",
    "                            \"raw_text\": row[\"body\"], \n",
    "                            \"like_num\": row[\"like_num\"],\n",
    "                            \"comment_num\": row[\"comment_num\"], \n",
    "                            \"retweet_num\": row[\"retweet_num\"], \n",
    "                            \"tweet_activity\": row[\"tweet_activity\"],\n",
    "                            \"clean_text\": row[\"clean_text_no_stem_user\"],\n",
    "                            \"subjectivity\": row[\"subjectivity\"], \n",
    "                            \"sentiment\": row[\"sentiment\"]})"
   ]
  },
  {
   "cell_type": "code",
   "execution_count": null,
   "id": "c27c719e",
   "metadata": {},
   "outputs": [],
   "source": [
    "# define company names\n",
    "ticker_symbol_to_name_mapping = {\"AAPL\": \"apple\",\n",
    "                                \"AMZN\": \"amazon\",\n",
    "                                \"GOOGL\": \"google\",\n",
    "                                \"MSFT\": \"Microsoft\",\n",
    "                                \"TSLA\": \"Tesla\"}\n",
    "\n",
    "for i in range(len(extracted_data)):\n",
    "    extracted_data[i][\"company\"] = ticker_symbol_to_name_mapping[extracted_data[i][\"company\"]]"
   ]
  },
  {
   "cell_type": "code",
   "execution_count": null,
   "id": "c8a3ca63",
   "metadata": {},
   "outputs": [],
   "source": [
    "# inspect data before indexing\n",
    "extracted_data"
   ]
  },
  {
   "cell_type": "code",
   "execution_count": null,
   "id": "5ed93884",
   "metadata": {},
   "outputs": [],
   "source": [
    "# index data\n",
    "print(solr.add(extracted_data))"
   ]
  },
  {
   "cell_type": "markdown",
   "id": "3c428f94",
   "metadata": {},
   "source": [
    "# Query guide\n",
    "\n",
    "Note that like_num, comment_num, retweet_num, tweet_activity, subjectivity, sentiment are not indexed and hence can't be queried. However, their values can be returned when relevant queries are made using other query fields such as id."
   ]
  },
  {
   "cell_type": "markdown",
   "id": "e4d59dec",
   "metadata": {},
   "source": [
    "## Single field query, query field = text body\n",
    "\n",
    "When querying the text body, query with clean_text, display raw_text"
   ]
  },
  {
   "cell_type": "code",
   "execution_count": null,
   "id": "eccad00a",
   "metadata": {},
   "outputs": [],
   "source": [
    "def display_results(search_results, query_field):\n",
    "    # show spell correction only if query_field == \"clean_text\"\n",
    "    if query_field == \"clean_text\":\n",
    "        if len(search_results) == 0 and search_results.spellcheck['suggestions'][1]['numFound'] > 0:\n",
    "            print(\"It seems the query you are searching if not present in the database. Here are some alternatives suggested queries: \")\n",
    "            print(search_results.spellcheck['suggestions'][1]['suggestion'])\n",
    "        else:\n",
    "            for result in search_results:\n",
    "                print(\"id: \", result[\"id\"])\n",
    "                print(\"company: \", result[\"company\"])\n",
    "                print(\"post_date: \", result[\"post_date\"])\n",
    "                print(\"author: \", result[\"author\"])\n",
    "                print(\"raw_text: \", result[\"raw_text\"])\n",
    "                print(\"like_num: \", result[\"like_num\"])\n",
    "                print(\"comment_num: \", result[\"comment_num\"])\n",
    "                print(\"retweet_num: \", result[\"retweet_num\"])\n",
    "                print(\"tweet_activity: \", result[\"tweet_activity\"])\n",
    "                print(\"subjectivity: \", result[\"subjectivity\"])\n",
    "                print(\"sentiment: \", result[\"sentiment\"])\n",
    "                print(\"====================================\")\n",
    "                print()\n",
    "    else:\n",
    "        if len(search_results) == 0:\n",
    "            print(\"It seems the query you are searching if not present in the database\")\n",
    "        else:\n",
    "            for result in search_results:\n",
    "                print(\"id: \", result[\"id\"])\n",
    "                print(\"company: \", result[\"company\"])\n",
    "                print(\"post_date: \", result[\"post_date\"])\n",
    "                print(\"author: \", result[\"author\"])\n",
    "                print(\"raw_text: \", result[\"raw_text\"])\n",
    "                print(\"like_num: \", result[\"like_num\"])\n",
    "                print(\"comment_num: \", result[\"comment_num\"])\n",
    "                print(\"retweet_num: \", result[\"retweet_num\"])\n",
    "                print(\"tweet_activity: \", result[\"tweet_activity\"])\n",
    "                print(\"subjectivity: \", result[\"subjectivity\"])\n",
    "                print(\"sentiment: \", result[\"sentiment\"])\n",
    "                print(\"====================================\")\n",
    "                print() "
   ]
  },
  {
   "cell_type": "code",
   "execution_count": null,
   "id": "dca4e5e7",
   "metadata": {},
   "outputs": [],
   "source": [
    "# query on 1 field\n",
    "query_field = \"clean_text\" # define the field to search under\n",
    "query = \"economically\" # define the search term\n",
    "fields_to_return = \"id, company, post_date, author, raw_text, like_num, comment_num, retweet_num, tweet_activity, subjectivity, sentiment\" # define the fields to return results\n",
    "top_n_results = 3 # define the number of top results to return\n",
    "\n",
    "query_string = \"%s: %s\" % (query_field, query)\n",
    "\n",
    "search_results = solr.search(query_string, \n",
    "                             **{'fl': fields_to_return, \n",
    "                                'rows': top_n_results})\n",
    "\n",
    "display_results(search_results, query_field)"
   ]
  },
  {
   "cell_type": "markdown",
   "id": "88e38197",
   "metadata": {},
   "source": [
    "## Single field query, query field = post date"
   ]
  },
  {
   "cell_type": "code",
   "execution_count": null,
   "id": "741c2a4e",
   "metadata": {},
   "outputs": [],
   "source": [
    "# query on 1 field\n",
    "query_field = \"post_date\" # define the field to search under\n",
    "query = '[2023-01-01T23\\:59\\:59Z TO 2023-03-01T23\\:59\\:59Z]' # define the search term\n",
    "fields_to_return = \"id, company, post_date, author, raw_text, like_num, comment_num, retweet_num, tweet_activity, subjectivity, sentiment\" # define the fields to return results\n",
    "top_n_results = 3 # define the number of top results to return\n",
    "\n",
    "query_string = \"%s: %s\" % (query_field, query)\n",
    "\n",
    "search_results = solr.search(query_string, \n",
    "                             **{'fl': fields_to_return, \n",
    "                                'rows': top_n_results})\n",
    "\n",
    "display_results(search_results, query_field)"
   ]
  },
  {
   "cell_type": "markdown",
   "id": "ea78687b",
   "metadata": {},
   "source": [
    "# Single field query, query field = text body, query with wrong spelling\n",
    "\n",
    "Note that spell correction only applied to clean_text"
   ]
  },
  {
   "cell_type": "code",
   "execution_count": null,
   "id": "949390c6",
   "metadata": {},
   "outputs": [],
   "source": [
    "# query on 1 field\n",
    "query_field = \"clean_text\" # define the field to search under\n",
    "query = 'increasy' # define the search term\n",
    "fields_to_return = \"id, company, post_date, author, raw_text, like_num, comment_num, retweet_num, tweet_activity, subjectivity, sentiment\" # define the fields to return results\n",
    "top_n_results = 3 # define the number of top results to return\n",
    "\n",
    "query_string = \"%s: %s\" % (query_field, query)\n",
    "\n",
    "search_results = solr.search(query_string, \n",
    "                             **{'fl': fields_to_return, \n",
    "                                'rows': top_n_results})\n",
    "\n",
    "display_results(search_results, query_field)"
   ]
  },
  {
   "cell_type": "markdown",
   "id": "219abc44",
   "metadata": {},
   "source": [
    "# Multi-fields query"
   ]
  },
  {
   "cell_type": "code",
   "execution_count": null,
   "id": "6c2ed2d8",
   "metadata": {},
   "outputs": [],
   "source": [
    "# query on multiple fields\n",
    "fields_to_return = \"id, company, post_date, author, raw_text, like_num, comment_num, retweet_num, tweet_activity, subjectivity, sentiment\" # define the fields to return results\n",
    "top_n_results = 3 # define the number of top results to return\n",
    "\n",
    "query_string = \"company: apple AND clean_text: increase\" # AND OR\n",
    "\n",
    "search_results = solr.search(query_string, \n",
    "                             **{'fl': fields_to_return, \n",
    "                                'rows': top_n_results})\n",
    "\n",
    "display_results(search_results, query_field)"
   ]
  },
  {
   "cell_type": "code",
   "execution_count": null,
   "id": "8319ee22",
   "metadata": {},
   "outputs": [],
   "source": []
  }
 ],
 "metadata": {
  "kernelspec": {
   "display_name": "Python 3 (ipykernel)",
   "language": "python",
   "name": "python3"
  },
  "language_info": {
   "codemirror_mode": {
    "name": "ipython",
    "version": 3
   },
   "file_extension": ".py",
   "mimetype": "text/x-python",
   "name": "python",
   "nbconvert_exporter": "python",
   "pygments_lexer": "ipython3",
   "version": "3.9.12"
  }
 },
 "nbformat": 4,
 "nbformat_minor": 5
}
